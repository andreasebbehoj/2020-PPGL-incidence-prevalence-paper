{
  "nbformat": 4,
  "nbformat_minor": 0,
  "metadata": {
    "colab": {
      "name": "Widget_binder.ipynb",
      "provenance": [],
      "collapsed_sections": [],
      "authorship_tag": "ABX9TyNU6I71j+LUgLq7LjpMfiuu",
      "include_colab_link": true
    },
    "kernelspec": {
      "name": "python3",
      "display_name": "Python 3"
    }
  },
  "cells": [
    {
      "cell_type": "markdown",
      "metadata": {
        "id": "view-in-github",
        "colab_type": "text"
      },
      "source": [
        "<a href=\"https://colab.research.google.com/github/andreasebbehoj/2020-PPGL-incidence-prevalence-paper/blob/master/Widget_binder.ipynb\" target=\"_parent\"><img src=\"https://colab.research.google.com/assets/colab-badge.svg\" alt=\"Open In Colab\"/></a>"
      ]
    },
    {
      "cell_type": "markdown",
      "metadata": {
        "id": "Uiu7VVSSI3wr"
      },
      "source": [
        "#App setup\r\n",
        "This section doesn't work in colab. It is here for reference, but run on binder via github. \r\n",
        "\r\n",
        "Guide from chapter 02:\r\n",
        "1. Add your notebook to a [GitHub repository](http://github.com/).\r\n",
        "2. Paste the URL of that repo into Binder's URL, as shown in <<deploy-binder>>.\r\n",
        "3. Change the File dropdown to instead select URL.\r\n",
        "4. In the \"URL to open\" field, enter `/voila/render/name.ipynb` (replacing `name` with the name of for your notebook).\r\n",
        "5. Click the clickboard button at the bottom right to copyt the URL and paste it somewhere safe. \r\n",
        "6. Click Launch."
      ]
    },
    {
      "cell_type": "code",
      "metadata": {
        "id": "lMMVhCT4zqKu"
      },
      "source": [
        "# Standard colab setup\r\n",
        "!pip install -Uqq fastbook\r\n",
        "import fastbook\r\n",
        "#fastbook.setup_book()\r\n",
        "\r\n",
        "from fastbook import *\r\n",
        "from fastai.vision.widgets import *\r\n",
        "\r\n",
        "!pip install voila\r\n",
        "!jupyter serverextension enable voila —sys-prefix"
      ],
      "execution_count": null,
      "outputs": []
    },
    {
      "cell_type": "code",
      "metadata": {
        "id": "Eao7bM5b0APi"
      },
      "source": [
        "# Download model from Gdrive link\r\n",
        "!gdown --id 16VC4-BkeOvPCj5XeGuZ6B7M0KvP8SXo2\r\n",
        "\r\n",
        "# Load model\r\n",
        "learn_inf = load_learner('export.pkl')"
      ],
      "execution_count": null,
      "outputs": []
    },
    {
      "cell_type": "code",
      "metadata": {
        "id": "TXNk7NeZ0Bf-"
      },
      "source": [
        "# Define app elements\r\n",
        "\r\n",
        "# Upload button\r\n",
        "btn_upload = widgets.FileUpload()\r\n",
        "\r\n",
        "# Run classify\r\n",
        "btn_run = widgets.Button(description='Classify')\r\n",
        "\r\n",
        "# Display picture \r\n",
        "out_pl = widgets.Output()\r\n",
        "\r\n",
        "# Find label\r\n",
        "lbl_pred = widgets.Label()\r\n",
        "\r\n",
        "# Click event handler\r\n",
        "def on_click_classify(change):\r\n",
        "    img = PILImage.create(btn_upload.data[-1])\r\n",
        "    out_pl.clear_output()\r\n",
        "    with out_pl: display(img.to_thumb(128,128)) # display picture\r\n",
        "    pred,pred_idx,probs = learn_inf.predict(img) # get model prediction\r\n",
        "    lbl_pred.value = f'Prediction: {pred}; Probability: {probs[pred_idx]:.04f}' # get label\r\n",
        "\r\n",
        "btn_run.on_click(on_click_classify)"
      ],
      "execution_count": null,
      "outputs": []
    },
    {
      "cell_type": "code",
      "metadata": {
        "id": "NNcLYUy50DKw"
      },
      "source": [
        "# Widget \r\n",
        "VBox([widgets.Label('Select your bear!'), \r\n",
        "      btn_upload, btn_run, out_pl, lbl_pred])"
      ],
      "execution_count": null,
      "outputs": []
    }
  ]
}